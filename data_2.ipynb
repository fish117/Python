{
 "cells": [
  {
   "cell_type": "code",
   "execution_count": 2,
   "metadata": {},
   "outputs": [
    {
     "name": "stdout",
     "output_type": "stream",
     "text": [
      "[[0.69646919 0.28613933 0.22685145 0.55131477 0.71946897]\n",
      " [0.42310646 0.9807642  0.68482974 0.4809319  0.39211752]\n",
      " [0.34317802 0.72904971 0.43857224 0.0596779  0.39804426]]\n"
     ]
    }
   ],
   "source": [
    "import numpy as np\n",
    "rnd=np.random.RandomState(seed=123)\n",
    "X=rnd.uniform (low=0.0,high=1.0,size=(3,5)) # 3*5 array\n",
    "print (X)"
   ]
  },
  {
   "cell_type": "code",
   "execution_count": null,
   "metadata": {
    "collapsed": true
   },
   "outputs": [],
   "source": [
    "# 元素访问\n",
    "\n",
    "# 获取单个元素\n",
    "# （这里是第一行第一列的元素）\n",
    "print(X[0, 0])\n",
    "\n",
    "# 获取一行\n",
    "# （这里是第二行）\n",
    "print(X[1])\n",
    "\n",
    "# 获取一列\n",
    "# （这里是第二列）\n",
    "print(X[:, 1])\n",
    "\n",
    "# 数组转置\n",
    "print(X.T)"
   ]
  },
  {
   "cell_type": "code",
   "execution_count": 4,
   "metadata": {},
   "outputs": [
    {
     "name": "stdout",
     "output_type": "stream",
     "text": [
      "0.6964691855978616\n"
     ]
    }
   ],
   "source": [
    "print (X[0,0]) # numpy start with 0"
   ]
  },
  {
   "cell_type": "code",
   "execution_count": null,
   "metadata": {
    "collapsed": true
   },
   "outputs": [],
   "source": [
    "# 获取一行\n",
    "# （这里是第二行）\n",
    "print(X[1])\n",
    "\n",
    "# 获取一列\n",
    "# （这里是第二列）\n",
    "print(X[:, 1])\n",
    "\n",
    "# 数组转置\n",
    "print(X.T)"
   ]
  },
  {
   "cell_type": "code",
   "execution_count": 5,
   "metadata": {},
   "outputs": [
    {
     "name": "stdout",
     "output_type": "stream",
     "text": [
      "[0.42310646 0.9807642  0.68482974 0.4809319  0.39211752]\n"
     ]
    }
   ],
   "source": [
    "print (X[1]) #print the 2nd row"
   ]
  },
  {
   "cell_type": "code",
   "execution_count": 7,
   "metadata": {},
   "outputs": [
    {
     "name": "stdout",
     "output_type": "stream",
     "text": [
      "[0.28613933 0.9807642  0.72904971]\n"
     ]
    }
   ],
   "source": [
    "print (X[:,1]) # print the 2nd column"
   ]
  },
  {
   "cell_type": "code",
   "execution_count": 10,
   "metadata": {},
   "outputs": [
    {
     "name": "stdout",
     "output_type": "stream",
     "text": [
      "[[0.69646919 0.42310646 0.34317802]\n",
      " [0.28613933 0.9807642  0.72904971]\n",
      " [0.22685145 0.68482974 0.43857224]\n",
      " [0.55131477 0.4809319  0.0596779 ]\n",
      " [0.71946897 0.39211752 0.39804426]]\n"
     ]
    }
   ],
   "source": [
    "print (X.T)  #print the transformation matrix of X"
   ]
  },
  {
   "cell_type": "code",
   "execution_count": null,
   "metadata": {
    "collapsed": true
   },
   "outputs": [],
   "source": [
    "# 在指定的时间间隔内创建均匀间隔的数字的行向量。\n",
    "y = np.linspace(0, 12, 5)\n",
    "print(y)\n"
   ]
  },
  {
   "cell_type": "code",
   "execution_count": 18,
   "metadata": {},
   "outputs": [
    {
     "name": "stdout",
     "output_type": "stream",
     "text": [
      "[ 0.  3.  6.  9. 12.]\n"
     ]
    }
   ],
   "source": [
    "y=np.linspace(0,12,5)\n",
    "print (y)   # 在指定时间内创造间隔均匀的变量"
   ]
  },
  {
   "cell_type": "code",
   "execution_count": 20,
   "metadata": {},
   "outputs": [
    {
     "name": "stdout",
     "output_type": "stream",
     "text": [
      "[[ 0.]\n",
      " [ 3.]\n",
      " [ 6.]\n",
      " [ 9.]\n",
      " [12.]]\n"
     ]
    }
   ],
   "source": [
    "# 将行向量转换为列向量\n",
    "\n",
    "print (y[:,np.newaxis])"
   ]
  },
  {
   "cell_type": "code",
   "execution_count": null,
   "metadata": {
    "collapsed": true
   },
   "outputs": [],
   "source": [
    "# 生成随机数组\n",
    "rnd = np.random.RandomState(seed=123)\n",
    "X = rnd.uniform(low=0.0, high=1.0, size=(3, 5))  # a 3 x 5 array\n"
   ]
  },
  {
   "cell_type": "code",
   "execution_count": 23,
   "metadata": {},
   "outputs": [
    {
     "name": "stdout",
     "output_type": "stream",
     "text": [
      "(3, 5)\n"
     ]
    }
   ],
   "source": [
    "rnd=np.random.RandomState (seed=123)\n",
    "X=rnd.uniform(low=0.0,high=1.0,size=(3,5))\n",
    "print (X.shape)"
   ]
  },
  {
   "cell_type": "code",
   "execution_count": 27,
   "metadata": {},
   "outputs": [
    {
     "name": "stdout",
     "output_type": "stream",
     "text": [
      "[[0.69646919 0.28613933 0.22685145]\n",
      " [0.55131477 0.71946897 0.42310646]\n",
      " [0.9807642  0.68482974 0.4809319 ]\n",
      " [0.39211752 0.34317802 0.72904971]\n",
      " [0.43857224 0.0596779  0.39804426]]\n"
     ]
    }
   ],
   "source": [
    "# 将 X 大小变为 (3, 5)\n",
    "X_reshaped = X.reshape(5, 3)\n",
    "print(X_reshaped)\n"
   ]
  },
  {
   "cell_type": "code",
   "execution_count": 30,
   "metadata": {},
   "outputs": [
    {
     "name": "stdout",
     "output_type": "stream",
     "text": [
      "[3 1 0]\n"
     ]
    },
    {
     "data": {
      "text/plain": [
       "array([[0.55131477, 0.28613933, 0.69646919],\n",
       "       [0.4809319 , 0.9807642 , 0.42310646],\n",
       "       [0.0596779 , 0.72904971, 0.34317802]])"
      ]
     },
     "execution_count": 30,
     "metadata": {},
     "output_type": "execute_result"
    }
   ],
   "source": [
    "# 使用整数数组的索引（花式索引）\n",
    "\n",
    "indices=np.array ([3,1,0])\n",
    "print(indices)\n",
    "X[:,indices]\n",
    "\n"
   ]
  },
  {
   "cell_type": "code",
   "execution_count": 31,
   "metadata": {},
   "outputs": [
    {
     "name": "stdout",
     "output_type": "stream",
     "text": [
      "[[0.69646919 0.28613933 0.22685145 0.55131477 0.71946897]\n",
      " [0.42310646 0.9807642  0.68482974 0.4809319  0.39211752]\n",
      " [0.34317802 0.72904971 0.43857224 0.0596779  0.39804426]\n",
      " [0.73799541 0.18249173 0.17545176 0.53155137 0.53182759]\n",
      " [0.63440096 0.84943179 0.72445532 0.61102351 0.72244338]\n",
      " [0.32295891 0.36178866 0.22826323 0.29371405 0.63097612]\n",
      " [0.09210494 0.43370117 0.43086276 0.4936851  0.42583029]\n",
      " [0.31226122 0.42635131 0.89338916 0.94416002 0.50183668]\n",
      " [0.62395295 0.1156184  0.31728548 0.41482621 0.86630916]\n",
      " [0.25045537 0.48303426 0.98555979 0.51948512 0.61289453]]\n",
      "[[0.         0.         0.         0.         0.71946897]\n",
      " [0.         0.9807642  0.         0.         0.        ]\n",
      " [0.         0.72904971 0.         0.         0.        ]\n",
      " [0.73799541 0.         0.         0.         0.        ]\n",
      " [0.         0.84943179 0.72445532 0.         0.72244338]\n",
      " [0.         0.         0.         0.         0.        ]\n",
      " [0.         0.         0.         0.         0.        ]\n",
      " [0.         0.         0.89338916 0.94416002 0.        ]\n",
      " [0.         0.         0.         0.         0.86630916]\n",
      " [0.         0.         0.98555979 0.         0.        ]]\n"
     ]
    }
   ],
   "source": [
    "\n",
    "\n",
    "# 创建一个包含大量零的随机数组\n",
    "rnd=np.random.RandomState(seed=123)\n",
    "X=rnd.uniform(low=0.0,high=1.0,size=(10,5))\n",
    "print (X)\n",
    "# 将大多数元素设置为零\n",
    "X[X<0.7]=0\n",
    "print(X)\n",
    "from scipy import sparse"
   ]
  },
  {
   "cell_type": "code",
   "execution_count": 32,
   "metadata": {},
   "outputs": [
    {
     "name": "stdout",
     "output_type": "stream",
     "text": [
      "  (0, 4)\t0.7194689697855631\n",
      "  (1, 1)\t0.9807641983846155\n",
      "  (2, 1)\t0.7290497073840416\n",
      "  (3, 0)\t0.7379954057320357\n",
      "  (4, 1)\t0.8494317940777896\n",
      "  (4, 2)\t0.7244553248606352\n",
      "  (4, 4)\t0.7224433825702216\n",
      "  (7, 2)\t0.8933891631171348\n",
      "  (7, 3)\t0.9441600182038796\n",
      "  (8, 4)\t0.8663091578833659\n",
      "  (9, 2)\t0.985559785610705\n"
     ]
    }
   ],
   "source": [
    "# 将 X 转换为 CSR（压缩稀疏行）矩阵\n",
    "X_csr=sparse.csr_matrix(X)\n",
    "print(X_csr)"
   ]
  },
  {
   "cell_type": "code",
   "execution_count": 33,
   "metadata": {},
   "outputs": [
    {
     "name": "stdout",
     "output_type": "stream",
     "text": [
      "[[0.         0.         0.         0.         0.71946897]\n",
      " [0.         0.9807642  0.         0.         0.        ]\n",
      " [0.         0.72904971 0.         0.         0.        ]\n",
      " [0.73799541 0.         0.         0.         0.        ]\n",
      " [0.         0.84943179 0.72445532 0.         0.72244338]\n",
      " [0.         0.         0.         0.         0.        ]\n",
      " [0.         0.         0.         0.         0.        ]\n",
      " [0.         0.         0.89338916 0.94416002 0.        ]\n",
      " [0.         0.         0.         0.         0.86630916]\n",
      " [0.         0.         0.98555979 0.         0.        ]]\n"
     ]
    }
   ],
   "source": [
    "# 将 X 转换为 CSR（压缩稀疏行）矩阵\n",
    "print(X_csr.toarray())"
   ]
  },
  {
   "cell_type": "code",
   "execution_count": null,
   "metadata": {
    "collapsed": true
   },
   "outputs": [],
   "source": [
    "# 创建一个空的 LIL 矩阵并添加一些项目\n",
    "X_lil = sparse.lil_matrix((5, 5))\n",
    "\n",
    "for i, j in np.random.randint(0, 5, (15, 2)):\n",
    "    X_lil[i, j] = i + j\n",
    "\n",
    "print(X_lil)\n",
    "print(type(X_lil))\n",
    "\n",
    "X_dense = X_lil.toarray()\n",
    "print(X_dense)\n",
    "print(type(X_dense))"
   ]
  },
  {
   "cell_type": "code",
   "execution_count": null,
   "metadata": {
    "collapsed": true
   },
   "outputs": [],
   "source": []
  },
  {
   "cell_type": "code",
   "execution_count": 34,
   "metadata": {},
   "outputs": [
    {
     "name": "stdout",
     "output_type": "stream",
     "text": [
      "  (4, 3)\t7.0\n",
      "  (0, 4)\t4.0\n",
      "  (4, 3)\t7.0\n",
      "  (0, 4)\t4.0\n",
      "  (4, 2)\t6.0\n",
      "  (4, 3)\t7.0\n",
      "  (0, 4)\t4.0\n",
      "  (2, 3)\t5.0\n",
      "  (4, 2)\t6.0\n",
      "  (4, 3)\t7.0\n",
      "  (0, 4)\t4.0\n",
      "  (2, 3)\t5.0\n",
      "  (3, 2)\t5.0\n",
      "  (4, 2)\t6.0\n",
      "  (4, 3)\t7.0\n",
      "  (0, 4)\t4.0\n",
      "  (1, 2)\t3.0\n",
      "  (2, 3)\t5.0\n",
      "  (3, 2)\t5.0\n",
      "  (4, 2)\t6.0\n",
      "  (4, 3)\t7.0\n",
      "  (0, 4)\t4.0\n",
      "  (1, 2)\t3.0\n",
      "  (2, 3)\t5.0\n",
      "  (3, 2)\t5.0\n",
      "  (4, 2)\t6.0\n",
      "  (4, 3)\t7.0\n",
      "  (0, 4)\t4.0\n",
      "  (1, 2)\t3.0\n",
      "  (2, 3)\t5.0\n",
      "  (3, 2)\t5.0\n",
      "  (4, 2)\t6.0\n",
      "  (4, 3)\t7.0\n",
      "  (4, 4)\t8.0\n",
      "  (0, 4)\t4.0\n",
      "  (1, 2)\t3.0\n",
      "  (1, 4)\t5.0\n",
      "  (2, 3)\t5.0\n",
      "  (3, 2)\t5.0\n",
      "  (4, 2)\t6.0\n",
      "  (4, 3)\t7.0\n",
      "  (4, 4)\t8.0\n",
      "  (0, 4)\t4.0\n",
      "  (1, 2)\t3.0\n",
      "  (1, 4)\t5.0\n",
      "  (2, 3)\t5.0\n",
      "  (2, 4)\t6.0\n",
      "  (3, 2)\t5.0\n",
      "  (4, 2)\t6.0\n",
      "  (4, 3)\t7.0\n",
      "  (4, 4)\t8.0\n",
      "  (0, 4)\t4.0\n",
      "  (1, 1)\t2.0\n",
      "  (1, 2)\t3.0\n",
      "  (1, 4)\t5.0\n",
      "  (2, 3)\t5.0\n",
      "  (2, 4)\t6.0\n",
      "  (3, 2)\t5.0\n",
      "  (4, 2)\t6.0\n",
      "  (4, 3)\t7.0\n",
      "  (4, 4)\t8.0\n",
      "  (0, 4)\t4.0\n",
      "  (1, 1)\t2.0\n",
      "  (1, 2)\t3.0\n",
      "  (1, 4)\t5.0\n",
      "  (2, 3)\t5.0\n",
      "  (2, 4)\t6.0\n",
      "  (3, 2)\t5.0\n",
      "  (4, 2)\t6.0\n",
      "  (4, 3)\t7.0\n",
      "  (4, 4)\t8.0\n",
      "  (0, 4)\t4.0\n",
      "  (1, 1)\t2.0\n",
      "  (1, 2)\t3.0\n",
      "  (1, 4)\t5.0\n",
      "  (2, 3)\t5.0\n",
      "  (2, 4)\t6.0\n",
      "  (3, 2)\t5.0\n",
      "  (4, 2)\t6.0\n",
      "  (4, 3)\t7.0\n",
      "  (4, 4)\t8.0\n",
      "  (0, 2)\t2.0\n",
      "  (0, 4)\t4.0\n",
      "  (1, 1)\t2.0\n",
      "  (1, 2)\t3.0\n",
      "  (1, 4)\t5.0\n",
      "  (2, 3)\t5.0\n",
      "  (2, 4)\t6.0\n",
      "  (3, 2)\t5.0\n",
      "  (4, 2)\t6.0\n",
      "  (4, 3)\t7.0\n",
      "  (4, 4)\t8.0\n",
      "  (0, 2)\t2.0\n",
      "  (0, 4)\t4.0\n",
      "  (1, 1)\t2.0\n",
      "  (1, 2)\t3.0\n",
      "  (1, 4)\t5.0\n",
      "  (2, 3)\t5.0\n",
      "  (2, 4)\t6.0\n",
      "  (3, 2)\t5.0\n",
      "  (4, 2)\t6.0\n",
      "  (4, 3)\t7.0\n",
      "  (4, 4)\t8.0\n"
     ]
    }
   ],
   "source": [
    "X_lil=sparse.lil_matrix((5,5))\n",
    "for i,j in np.random.randint(0,5,(15,2)):\n",
    "    X_lil[i,j]=i+j\n",
    "    print (X_lil)"
   ]
  },
  {
   "cell_type": "code",
   "execution_count": 35,
   "metadata": {},
   "outputs": [
    {
     "name": "stdout",
     "output_type": "stream",
     "text": [
      "<class 'scipy.sparse.lil.lil_matrix'>\n"
     ]
    }
   ],
   "source": [
    "print (type(X_lil))"
   ]
  },
  {
   "cell_type": "code",
   "execution_count": 36,
   "metadata": {},
   "outputs": [
    {
     "name": "stdout",
     "output_type": "stream",
     "text": [
      "[[0. 0. 2. 0. 4.]\n",
      " [0. 2. 3. 0. 5.]\n",
      " [0. 0. 0. 5. 6.]\n",
      " [0. 0. 5. 0. 0.]\n",
      " [0. 0. 6. 7. 8.]]\n",
      "<class 'numpy.ndarray'>\n"
     ]
    }
   ],
   "source": [
    "X_dense = X_lil.toarray()\n",
    "print(X_dense)\n",
    "print(type(X_dense))"
   ]
  },
  {
   "cell_type": "code",
   "execution_count": null,
   "metadata": {
    "collapsed": true
   },
   "outputs": [],
   "source": [
    "import matplotlib.pyplot as plt\n",
    "\n",
    "# 绘制直线\n",
    "x = np.linspace(0, 10, 100)\n",
    "plt.plot(x, np.sin(x));\n",
    "\n",
    "# 散点图\n",
    "x = np.random.normal(size=500)\n",
    "y = np.random.normal(size=500)\n",
    "plt.scatter(x, y);\n"
   ]
  },
  {
   "cell_type": "code",
   "execution_count": 38,
   "metadata": {},
   "outputs": [
    {
     "data": {
      "image/png": "[encoded data removed]",
      "text/plain": [
       "<matplotlib.figure.Figure at 0x229089a8f98>"
      ]
     },
     "metadata": {},
     "output_type": "display_data"
    }
   ],
   "source": [
    "import matplotlib.pyplot as plt\n",
    "x=np.linspace(0,10,100)\n",
    "plt.plot(x,np.sin(x));\n",
    "plt.show()# 绘制直线"
   ]
  },
  {
   "cell_type": "code",
   "execution_count": 44,
   "metadata": {},
   "outputs": [
    {
     "data": {
      "image/png": "[encoded data removed]",
      "text/plain": [
       "<matplotlib.figure.Figure at 0x2290981a7b8>"
      ]
     },
     "metadata": {},
     "output_type": "display_data"
    }
   ],
   "source": [
    "x=np.random.normal(size=500)\n",
    "y=np.random.normal(size=500)\n",
    "plt.scatter(x,y)\n",
    "plt.show()"
   ]
  }
 ],
 "metadata": {
  "kernelspec": {
   "display_name": "Python 3",
   "language": "python",
   "name": "python3"
  },
  "language_info": {
   "codemirror_mode": {
    "name": "ipython",
    "version": 3
   },
   "file_extension": ".py",
   "mimetype": "text/x-python",
   "name": "python",
   "nbconvert_exporter": "python",
   "pygments_lexer": "ipython3",
   "version": "3.6.2"
  }
 },
 "nbformat": 4,
 "nbformat_minor": 2
}
